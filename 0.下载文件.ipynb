{
 "cells": [
  {
   "cell_type": "code",
   "execution_count": null,
   "id": "65d45fa0",
   "metadata": {},
   "outputs": [],
   "source": [
    "from transformers import AutoTokenizer\n",
    "\n",
    "AutoTokenizer.from_pretrained('gpt2').save_pretrained('tokenizer/gpt2')\n",
    "\n",
    "AutoTokenizer.from_pretrained('lvwerra/gpt2-imdb').save_pretrained(\n",
    "    'tokenizer/lvwerra/gpt2-imdb')\n",
    "\n",
    "AutoTokenizer.from_pretrained('lvwerra/distilbert-imdb').save_pretrained(\n",
    "    'tokenizer/lvwerra/distilbert-imdb')"
   ]
  },
  {
   "cell_type": "code",
   "execution_count": null,
   "id": "ba345732",
   "metadata": {},
   "outputs": [],
   "source": [
    "from datasets import load_dataset\n",
    "\n",
    "load_dataset('imdb').save_to_disk('dataset/imdb')\n",
    "\n",
    "load_dataset('b-mc2/sql-create-context').save_to_disk(\n",
    "    'dataset/b-mc2/sql-create-context')"
   ]
  },
  {
   "cell_type": "code",
   "execution_count": null,
   "id": "4341f356",
   "metadata": {},
   "outputs": [],
   "source": [
    "from transformers import AutoModelForCausalLM\n",
    "from transformers import AutoModelForSequenceClassification\n",
    "\n",
    "AutoModelForCausalLM.from_pretrained('gpt2').save_pretrained('model/gpt2')\n",
    "\n",
    "AutoModelForCausalLM.from_pretrained('lvwerra/gpt2-imdb').save_pretrained(\n",
    "    'model/lvwerra/gpt2-imdb')\n",
    "\n",
    "AutoModelForSequenceClassification.from_pretrained(\n",
    "    'lvwerra/distilbert-imdb').save_pretrained('model/lvwerra/distilbert-imdb')"
   ]
  }
 ],
 "metadata": {
  "kernelspec": {
   "display_name": "Python [conda env:pt2]",
   "language": "python",
   "name": "conda-env-pt2-py"
  },
  "language_info": {
   "codemirror_mode": {
    "name": "ipython",
    "version": 3
   },
   "file_extension": ".py",
   "mimetype": "text/x-python",
   "name": "python",
   "nbconvert_exporter": "python",
   "pygments_lexer": "ipython3",
   "version": "3.10.13"
  }
 },
 "nbformat": 4,
 "nbformat_minor": 5
}
